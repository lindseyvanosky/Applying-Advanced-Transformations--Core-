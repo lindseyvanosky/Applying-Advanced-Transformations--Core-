{
 "cells": [
  {
   "cell_type": "code",
   "execution_count": 1,
   "id": "776f8777",
   "metadata": {},
   "outputs": [],
   "source": [
    "import pandas as pd \n",
    "import numpy as np\n",
    "import matplotlib.pyplot as plt\n",
    "import seaborn as sns \n",
    "\n",
    "file_1 = \"Data/superhero_info - superhero_info.csv\"\n",
    "file_2 = \"Data/superhero_powers - superhero_powers.csv\"\n",
    "\n",
    "hero_df = pd.read_csv(file_1)\n",
    "powers_df = pd.read_csv(file_2)"
   ]
  },
  {
   "cell_type": "markdown",
   "id": "650fc351",
   "metadata": {},
   "source": [
    "## Data Cleaning - Hero "
   ]
  },
  {
   "cell_type": "code",
   "execution_count": 2,
   "id": "3a761619",
   "metadata": {},
   "outputs": [
    {
     "data": {
      "text/html": [
       "<div>\n",
       "<style scoped>\n",
       "    .dataframe tbody tr th:only-of-type {\n",
       "        vertical-align: middle;\n",
       "    }\n",
       "\n",
       "    .dataframe tbody tr th {\n",
       "        vertical-align: top;\n",
       "    }\n",
       "\n",
       "    .dataframe thead th {\n",
       "        text-align: right;\n",
       "    }\n",
       "</style>\n",
       "<table border=\"1\" class=\"dataframe\">\n",
       "  <thead>\n",
       "    <tr style=\"text-align: right;\">\n",
       "      <th></th>\n",
       "      <th>Hero|Publisher</th>\n",
       "      <th>Gender</th>\n",
       "      <th>Race</th>\n",
       "      <th>Alignment</th>\n",
       "      <th>Hair color</th>\n",
       "      <th>Eye color</th>\n",
       "      <th>Skin color</th>\n",
       "      <th>Measurements</th>\n",
       "    </tr>\n",
       "  </thead>\n",
       "  <tbody>\n",
       "    <tr>\n",
       "      <th>0</th>\n",
       "      <td>A-Bomb|Marvel Comics</td>\n",
       "      <td>Male</td>\n",
       "      <td>Human</td>\n",
       "      <td>good</td>\n",
       "      <td>No Hair</td>\n",
       "      <td>yellow</td>\n",
       "      <td>Unknown</td>\n",
       "      <td>{'Height': '203.0 cm', 'Weight': '441.0 kg'}</td>\n",
       "    </tr>\n",
       "    <tr>\n",
       "      <th>1</th>\n",
       "      <td>Abe Sapien|Dark Horse Comics</td>\n",
       "      <td>Male</td>\n",
       "      <td>Icthyo Sapien</td>\n",
       "      <td>good</td>\n",
       "      <td>No Hair</td>\n",
       "      <td>blue</td>\n",
       "      <td>blue</td>\n",
       "      <td>{'Height': '191.0 cm', 'Weight': '65.0 kg'}</td>\n",
       "    </tr>\n",
       "    <tr>\n",
       "      <th>2</th>\n",
       "      <td>Abin Sur|DC Comics</td>\n",
       "      <td>Male</td>\n",
       "      <td>Ungaran</td>\n",
       "      <td>good</td>\n",
       "      <td>No Hair</td>\n",
       "      <td>blue</td>\n",
       "      <td>red</td>\n",
       "      <td>{'Height': '185.0 cm', 'Weight': '90.0 kg'}</td>\n",
       "    </tr>\n",
       "    <tr>\n",
       "      <th>3</th>\n",
       "      <td>Abomination|Marvel Comics</td>\n",
       "      <td>Male</td>\n",
       "      <td>Human / Radiation</td>\n",
       "      <td>bad</td>\n",
       "      <td>No Hair</td>\n",
       "      <td>green</td>\n",
       "      <td>Unknown</td>\n",
       "      <td>{'Height': '203.0 cm', 'Weight': '441.0 kg'}</td>\n",
       "    </tr>\n",
       "    <tr>\n",
       "      <th>4</th>\n",
       "      <td>Absorbing Man|Marvel Comics</td>\n",
       "      <td>Male</td>\n",
       "      <td>Human</td>\n",
       "      <td>bad</td>\n",
       "      <td>No Hair</td>\n",
       "      <td>blue</td>\n",
       "      <td>Unknown</td>\n",
       "      <td>{'Height': '193.0 cm', 'Weight': '122.0 kg'}</td>\n",
       "    </tr>\n",
       "  </tbody>\n",
       "</table>\n",
       "</div>"
      ],
      "text/plain": [
       "                 Hero|Publisher Gender               Race Alignment  \\\n",
       "0          A-Bomb|Marvel Comics   Male              Human      good   \n",
       "1  Abe Sapien|Dark Horse Comics   Male      Icthyo Sapien      good   \n",
       "2            Abin Sur|DC Comics   Male            Ungaran      good   \n",
       "3     Abomination|Marvel Comics   Male  Human / Radiation       bad   \n",
       "4   Absorbing Man|Marvel Comics   Male              Human       bad   \n",
       "\n",
       "  Hair color Eye color Skin color  \\\n",
       "0    No Hair    yellow    Unknown   \n",
       "1    No Hair      blue       blue   \n",
       "2    No Hair      blue        red   \n",
       "3    No Hair     green    Unknown   \n",
       "4    No Hair      blue    Unknown   \n",
       "\n",
       "                                   Measurements  \n",
       "0  {'Height': '203.0 cm', 'Weight': '441.0 kg'}  \n",
       "1   {'Height': '191.0 cm', 'Weight': '65.0 kg'}  \n",
       "2   {'Height': '185.0 cm', 'Weight': '90.0 kg'}  \n",
       "3  {'Height': '203.0 cm', 'Weight': '441.0 kg'}  \n",
       "4  {'Height': '193.0 cm', 'Weight': '122.0 kg'}  "
      ]
     },
     "execution_count": 2,
     "metadata": {},
     "output_type": "execute_result"
    }
   ],
   "source": [
    "hero_df.head()"
   ]
  },
  {
   "cell_type": "code",
   "execution_count": 3,
   "id": "26d029ad",
   "metadata": {},
   "outputs": [
    {
     "data": {
      "text/plain": [
       "Hero|Publisher    0\n",
       "Gender            0\n",
       "Race              0\n",
       "Alignment         0\n",
       "Hair color        0\n",
       "Eye color         0\n",
       "Skin color        0\n",
       "Measurements      0\n",
       "dtype: int64"
      ]
     },
     "execution_count": 3,
     "metadata": {},
     "output_type": "execute_result"
    }
   ],
   "source": [
    "hero_df.isna().sum()"
   ]
  },
  {
   "cell_type": "code",
   "execution_count": 4,
   "id": "22ee46a9",
   "metadata": {},
   "outputs": [
    {
     "data": {
      "text/plain": [
       "0"
      ]
     },
     "execution_count": 4,
     "metadata": {},
     "output_type": "execute_result"
    }
   ],
   "source": [
    "hero_df.duplicated().sum()"
   ]
  },
  {
   "cell_type": "code",
   "execution_count": 5,
   "id": "f1c2dac9",
   "metadata": {},
   "outputs": [
    {
     "data": {
      "text/plain": [
       "Spider-Man|Marvel Comics       3\n",
       "Black Canary|DC Comics         2\n",
       "Nova|Marvel Comics             2\n",
       "Toxin|Marvel Comics            2\n",
       "Batman|DC Comics               2\n",
       "                              ..\n",
       "Fabian Cortez|Marvel Comics    1\n",
       "Exodus|Marvel Comics           1\n",
       "Evilhawk|Marvel Comics         1\n",
       "Evil Deadpool|Marvel Comics    1\n",
       "Zoom|DC Comics                 1\n",
       "Name: Hero|Publisher, Length: 457, dtype: int64"
      ]
     },
     "execution_count": 5,
     "metadata": {},
     "output_type": "execute_result"
    }
   ],
   "source": [
    "hero_df[\"Hero|Publisher\"].value_counts()"
   ]
  },
  {
   "cell_type": "code",
   "execution_count": 6,
   "id": "20b9b1d6",
   "metadata": {},
   "outputs": [
    {
     "data": {
      "text/plain": [
       "Male       321\n",
       "Female     134\n",
       "Unknown      8\n",
       "Name: Gender, dtype: int64"
      ]
     },
     "execution_count": 6,
     "metadata": {},
     "output_type": "execute_result"
    }
   ],
   "source": [
    "hero_df[\"Gender\"].value_counts()"
   ]
  },
  {
   "cell_type": "code",
   "execution_count": 7,
   "id": "b82815e7",
   "metadata": {},
   "outputs": [
    {
     "data": {
      "text/plain": [
       "Human                156\n",
       "Unknown              145\n",
       "Mutant                51\n",
       "Human / Radiation     11\n",
       "Android                7\n",
       "Symbiote               7\n",
       "Alien                  6\n",
       "Demon                  6\n",
       "Cyborg                 6\n",
       "Kryptonian             5\n",
       "Atlantean              5\n",
       "Asgardian              5\n",
       "Inhuman                4\n",
       "New God                3\n",
       "Human-Kree             2\n",
       "Eternal                2\n",
       "Demi-God               2\n",
       "Saiyan                 2\n",
       "Amazon                 2\n",
       "Human / Altered        2\n",
       "Metahuman              2\n",
       "God / Eternal          2\n",
       "Human-Vulcan           1\n",
       "Martian                1\n",
       "Zombie                 1\n",
       "Korugaran              1\n",
       "Talokite               1\n",
       "Clone                  1\n",
       "Human-Spartoi          1\n",
       "Animal                 1\n",
       "Yautja                 1\n",
       "Human / Cosmic         1\n",
       "Tamaranean             1\n",
       "Mutant / Clone         1\n",
       "Luphomoid              1\n",
       "Frost Giant            1\n",
       "Strontian              1\n",
       "Czarnian               1\n",
       "Bolovaxian             1\n",
       "Human-Vuldarian        1\n",
       "Flora Colossus         1\n",
       "Gorilla                1\n",
       "Icthyo Sapien          1\n",
       "Zen-Whoberian          1\n",
       "Cosmic Entity          1\n",
       "Kakarantharaian        1\n",
       "Vampire                1\n",
       "Bizarro                1\n",
       "Neyaphem               1\n",
       "Xenomorph XX121        1\n",
       "Ungaran                1\n",
       "Yoda's species         1\n",
       "Name: Race, dtype: int64"
      ]
     },
     "execution_count": 7,
     "metadata": {},
     "output_type": "execute_result"
    }
   ],
   "source": [
    "hero_df[\"Race\"].value_counts()"
   ]
  },
  {
   "cell_type": "code",
   "execution_count": 8,
   "id": "bc5c5bff",
   "metadata": {},
   "outputs": [
    {
     "data": {
      "text/plain": [
       "good       311\n",
       "bad        132\n",
       "neutral     17\n",
       "Unknown      3\n",
       "Name: Alignment, dtype: int64"
      ]
     },
     "execution_count": 8,
     "metadata": {},
     "output_type": "execute_result"
    }
   ],
   "source": [
    "hero_df[\"Alignment\"].value_counts()"
   ]
  },
  {
   "cell_type": "code",
   "execution_count": 9,
   "id": "11f02d92",
   "metadata": {},
   "outputs": [
    {
     "data": {
      "text/plain": [
       "Black               127\n",
       "Blond                74\n",
       "Brown                69\n",
       "No Hair              52\n",
       "Red                  41\n",
       "White                22\n",
       "Unknown              18\n",
       "Auburn               13\n",
       "Green                 6\n",
       "Strawberry Blond      5\n",
       "Purple                4\n",
       "Brown / White         4\n",
       "Grey                  4\n",
       "black                 3\n",
       "blond                 3\n",
       "Silver                3\n",
       "Blue                  2\n",
       "Orange                2\n",
       "Pink                  1\n",
       "Gold                  1\n",
       "Red / White           1\n",
       "Indigo                1\n",
       "Red / Orange          1\n",
       "Red / Grey            1\n",
       "Brownn                1\n",
       "Yellow                1\n",
       "Orange / White        1\n",
       "Magenta               1\n",
       "Black / Blue          1\n",
       "Name: Hair color, dtype: int64"
      ]
     },
     "execution_count": 9,
     "metadata": {},
     "output_type": "execute_result"
    }
   ],
   "source": [
    "hero_df[\"Hair color\"].value_counts()"
   ]
  },
  {
   "cell_type": "code",
   "execution_count": 10,
   "id": "af449a91",
   "metadata": {},
   "outputs": [
    {
     "data": {
      "text/plain": [
       "Black               130\n",
       "Blond                77\n",
       "Brown                70\n",
       "No Hair              52\n",
       "Red                  41\n",
       "White                22\n",
       "Unknown              18\n",
       "Auburn               13\n",
       "Green                 6\n",
       "Strawberry Blond      5\n",
       "Purple                4\n",
       "Brown / White         4\n",
       "Grey                  4\n",
       "Silver                3\n",
       "Blue                  2\n",
       "Orange                2\n",
       "Pink                  1\n",
       "Gold                  1\n",
       "Red / White           1\n",
       "Indigo                1\n",
       "Red / Orange          1\n",
       "Red / Grey            1\n",
       "Yellow                1\n",
       "Orange / White        1\n",
       "Magenta               1\n",
       "Black / Blue          1\n",
       "Name: Hair color, dtype: int64"
      ]
     },
     "execution_count": 10,
     "metadata": {},
     "output_type": "execute_result"
    }
   ],
   "source": [
    "hero_df[\"Hair color\"].replace({\"blond\" : \"Blond\", \"black\" : \"Black\", \"Brownn\" : \"Brown\"}, inplace = True)\n",
    "hero_df[\"Hair color\"].value_counts()"
   ]
  },
  {
   "cell_type": "code",
   "execution_count": 11,
   "id": "1c62ffb2",
   "metadata": {},
   "outputs": [
    {
     "data": {
      "text/plain": [
       "blue                       182\n",
       "brown                      102\n",
       "green                       61\n",
       "red                         38\n",
       "Unknown                     17\n",
       "yellow                      13\n",
       "black                       12\n",
       "white                       10\n",
       "grey                         5\n",
       "hazel                        5\n",
       "gold                         3\n",
       "purple                       3\n",
       "yellow (without irises)      2\n",
       "amber                        2\n",
       "violet                       2\n",
       "white / red                  1\n",
       "indigo                       1\n",
       "silver                       1\n",
       "green / blue                 1\n",
       "blue / white                 1\n",
       "yellow / blue                1\n",
       "Name: Eye color, dtype: int64"
      ]
     },
     "execution_count": 11,
     "metadata": {},
     "output_type": "execute_result"
    }
   ],
   "source": [
    "hero_df[\"Eye color\"].value_counts()"
   ]
  },
  {
   "cell_type": "code",
   "execution_count": 12,
   "id": "fdb75efa",
   "metadata": {},
   "outputs": [
    {
     "data": {
      "text/plain": [
       "Unknown       409\n",
       "green          15\n",
       "blue            7\n",
       "red             7\n",
       "white           5\n",
       "grey            4\n",
       "silver          4\n",
       "purple          3\n",
       "gold            2\n",
       "pink            2\n",
       "yellow          2\n",
       "black           1\n",
       "blue-white      1\n",
       "orange          1\n",
       "Name: Skin color, dtype: int64"
      ]
     },
     "execution_count": 12,
     "metadata": {},
     "output_type": "execute_result"
    }
   ],
   "source": [
    "hero_df[\"Skin color\"].value_counts()"
   ]
  },
  {
   "cell_type": "code",
   "execution_count": 13,
   "id": "19a754f5",
   "metadata": {},
   "outputs": [
    {
     "data": {
      "text/plain": [
       "{'Height': '183.0 cm', 'Weight': '90.0 kg'}     6\n",
       "{'Height': '183.0 cm', 'Weight': '86.0 kg'}     6\n",
       "{'Height': '178.0 cm', 'Weight': '79.0 kg'}     6\n",
       "{'Height': '188.0 cm', 'Weight': '95.0 kg'}     6\n",
       "{'Height': '180.0 cm', 'Weight': '81.0 kg'}     6\n",
       "                                               ..\n",
       "{'Height': '701.0 cm', 'Weight': '4.0 kg'}      1\n",
       "{'Height': '185.0 cm', 'Weight': '89.0 kg'}     1\n",
       "{'Height': '259.0 cm', 'Weight': '158.0 kg'}    1\n",
       "{'Height': '191.0 cm', 'Weight': '65.0 kg'}     1\n",
       "{'Height': '66.0 cm', 'Weight': '17.0 kg'}      1\n",
       "Name: Measurements, Length: 287, dtype: int64"
      ]
     },
     "execution_count": 13,
     "metadata": {},
     "output_type": "execute_result"
    }
   ],
   "source": [
    "hero_df[\"Measurements\"].value_counts()"
   ]
  },
  {
   "cell_type": "code",
   "execution_count": 14,
   "id": "82e29ba9",
   "metadata": {},
   "outputs": [],
   "source": [
    "hero_df[\"Measurements\"] = hero_df[\"Measurements\"].str.replace(' ', '')"
   ]
  }
 ],
 "metadata": {
  "kernelspec": {
   "display_name": "Python (dojo-env)",
   "language": "python",
   "name": "dojo-env"
  },
  "language_info": {
   "codemirror_mode": {
    "name": "ipython",
    "version": 3
   },
   "file_extension": ".py",
   "mimetype": "text/x-python",
   "name": "python",
   "nbconvert_exporter": "python",
   "pygments_lexer": "ipython3",
   "version": "3.8.13"
  }
 },
 "nbformat": 4,
 "nbformat_minor": 5
}
