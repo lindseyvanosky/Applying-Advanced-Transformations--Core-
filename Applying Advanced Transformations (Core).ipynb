{
 "cells": [
  {
   "cell_type": "code",
   "execution_count": 32,
   "id": "b91462c7",
   "metadata": {},
   "outputs": [],
   "source": [
    "import pandas as pd \n",
    "import numpy as np\n",
    "import matplotlib.pyplot as plt\n",
    "import seaborn as sns \n",
    "import os,json\n",
    "\n",
    "file_1 = \"Data/superhero_info - superhero_info.csv\"\n",
    "file_2 = \"Data/superhero_powers - superhero_powers.csv\"\n",
    "\n",
    "hero_df = pd.read_csv(file_1)\n",
    "powers_df = pd.read_csv(file_2)"
   ]
  },
  {
   "cell_type": "markdown",
   "id": "a6894f79",
   "metadata": {},
   "source": [
    "## Data Cleaning - Hero "
   ]
  },
  {
   "cell_type": "code",
   "execution_count": 33,
   "id": "f47cd907",
   "metadata": {},
   "outputs": [
    {
     "data": {
      "text/html": [
       "<div>\n",
       "<style scoped>\n",
       "    .dataframe tbody tr th:only-of-type {\n",
       "        vertical-align: middle;\n",
       "    }\n",
       "\n",
       "    .dataframe tbody tr th {\n",
       "        vertical-align: top;\n",
       "    }\n",
       "\n",
       "    .dataframe thead th {\n",
       "        text-align: right;\n",
       "    }\n",
       "</style>\n",
       "<table border=\"1\" class=\"dataframe\">\n",
       "  <thead>\n",
       "    <tr style=\"text-align: right;\">\n",
       "      <th></th>\n",
       "      <th>Hero|Publisher</th>\n",
       "      <th>Gender</th>\n",
       "      <th>Race</th>\n",
       "      <th>Alignment</th>\n",
       "      <th>Hair color</th>\n",
       "      <th>Eye color</th>\n",
       "      <th>Skin color</th>\n",
       "      <th>Measurements</th>\n",
       "    </tr>\n",
       "  </thead>\n",
       "  <tbody>\n",
       "    <tr>\n",
       "      <th>0</th>\n",
       "      <td>A-Bomb|Marvel Comics</td>\n",
       "      <td>Male</td>\n",
       "      <td>Human</td>\n",
       "      <td>good</td>\n",
       "      <td>No Hair</td>\n",
       "      <td>yellow</td>\n",
       "      <td>Unknown</td>\n",
       "      <td>{'Height': '203.0 cm', 'Weight': '441.0 kg'}</td>\n",
       "    </tr>\n",
       "    <tr>\n",
       "      <th>1</th>\n",
       "      <td>Abe Sapien|Dark Horse Comics</td>\n",
       "      <td>Male</td>\n",
       "      <td>Icthyo Sapien</td>\n",
       "      <td>good</td>\n",
       "      <td>No Hair</td>\n",
       "      <td>blue</td>\n",
       "      <td>blue</td>\n",
       "      <td>{'Height': '191.0 cm', 'Weight': '65.0 kg'}</td>\n",
       "    </tr>\n",
       "    <tr>\n",
       "      <th>2</th>\n",
       "      <td>Abin Sur|DC Comics</td>\n",
       "      <td>Male</td>\n",
       "      <td>Ungaran</td>\n",
       "      <td>good</td>\n",
       "      <td>No Hair</td>\n",
       "      <td>blue</td>\n",
       "      <td>red</td>\n",
       "      <td>{'Height': '185.0 cm', 'Weight': '90.0 kg'}</td>\n",
       "    </tr>\n",
       "    <tr>\n",
       "      <th>3</th>\n",
       "      <td>Abomination|Marvel Comics</td>\n",
       "      <td>Male</td>\n",
       "      <td>Human / Radiation</td>\n",
       "      <td>bad</td>\n",
       "      <td>No Hair</td>\n",
       "      <td>green</td>\n",
       "      <td>Unknown</td>\n",
       "      <td>{'Height': '203.0 cm', 'Weight': '441.0 kg'}</td>\n",
       "    </tr>\n",
       "    <tr>\n",
       "      <th>4</th>\n",
       "      <td>Absorbing Man|Marvel Comics</td>\n",
       "      <td>Male</td>\n",
       "      <td>Human</td>\n",
       "      <td>bad</td>\n",
       "      <td>No Hair</td>\n",
       "      <td>blue</td>\n",
       "      <td>Unknown</td>\n",
       "      <td>{'Height': '193.0 cm', 'Weight': '122.0 kg'}</td>\n",
       "    </tr>\n",
       "  </tbody>\n",
       "</table>\n",
       "</div>"
      ],
      "text/plain": [
       "                 Hero|Publisher Gender               Race Alignment  \\\n",
       "0          A-Bomb|Marvel Comics   Male              Human      good   \n",
       "1  Abe Sapien|Dark Horse Comics   Male      Icthyo Sapien      good   \n",
       "2            Abin Sur|DC Comics   Male            Ungaran      good   \n",
       "3     Abomination|Marvel Comics   Male  Human / Radiation       bad   \n",
       "4   Absorbing Man|Marvel Comics   Male              Human       bad   \n",
       "\n",
       "  Hair color Eye color Skin color  \\\n",
       "0    No Hair    yellow    Unknown   \n",
       "1    No Hair      blue       blue   \n",
       "2    No Hair      blue        red   \n",
       "3    No Hair     green    Unknown   \n",
       "4    No Hair      blue    Unknown   \n",
       "\n",
       "                                   Measurements  \n",
       "0  {'Height': '203.0 cm', 'Weight': '441.0 kg'}  \n",
       "1   {'Height': '191.0 cm', 'Weight': '65.0 kg'}  \n",
       "2   {'Height': '185.0 cm', 'Weight': '90.0 kg'}  \n",
       "3  {'Height': '203.0 cm', 'Weight': '441.0 kg'}  \n",
       "4  {'Height': '193.0 cm', 'Weight': '122.0 kg'}  "
      ]
     },
     "execution_count": 33,
     "metadata": {},
     "output_type": "execute_result"
    }
   ],
   "source": [
    "hero_df.head()"
   ]
  },
  {
   "cell_type": "code",
   "execution_count": 34,
   "id": "53f99477",
   "metadata": {},
   "outputs": [
    {
     "data": {
      "text/plain": [
       "Hero|Publisher    0\n",
       "Gender            0\n",
       "Race              0\n",
       "Alignment         0\n",
       "Hair color        0\n",
       "Eye color         0\n",
       "Skin color        0\n",
       "Measurements      0\n",
       "dtype: int64"
      ]
     },
     "execution_count": 34,
     "metadata": {},
     "output_type": "execute_result"
    }
   ],
   "source": [
    "hero_df.isna().sum()"
   ]
  },
  {
   "cell_type": "code",
   "execution_count": 35,
   "id": "5b53a268",
   "metadata": {},
   "outputs": [
    {
     "data": {
      "text/plain": [
       "0"
      ]
     },
     "execution_count": 35,
     "metadata": {},
     "output_type": "execute_result"
    }
   ],
   "source": [
    "hero_df.duplicated().sum()"
   ]
  },
  {
   "cell_type": "code",
   "execution_count": 36,
   "id": "0033c38b",
   "metadata": {},
   "outputs": [
    {
     "data": {
      "text/plain": [
       "Spider-Man|Marvel Comics       3\n",
       "Black Canary|DC Comics         2\n",
       "Nova|Marvel Comics             2\n",
       "Toxin|Marvel Comics            2\n",
       "Batman|DC Comics               2\n",
       "                              ..\n",
       "Fabian Cortez|Marvel Comics    1\n",
       "Exodus|Marvel Comics           1\n",
       "Evilhawk|Marvel Comics         1\n",
       "Evil Deadpool|Marvel Comics    1\n",
       "Zoom|DC Comics                 1\n",
       "Name: Hero|Publisher, Length: 457, dtype: int64"
      ]
     },
     "execution_count": 36,
     "metadata": {},
     "output_type": "execute_result"
    }
   ],
   "source": [
    "hero_df[\"Hero|Publisher\"].value_counts()"
   ]
  },
  {
   "cell_type": "code",
   "execution_count": 37,
   "id": "0da9075c",
   "metadata": {},
   "outputs": [
    {
     "data": {
      "text/plain": [
       "Male       321\n",
       "Female     134\n",
       "Unknown      8\n",
       "Name: Gender, dtype: int64"
      ]
     },
     "execution_count": 37,
     "metadata": {},
     "output_type": "execute_result"
    }
   ],
   "source": [
    "hero_df[\"Gender\"].value_counts()"
   ]
  },
  {
   "cell_type": "code",
   "execution_count": 38,
   "id": "38863c3d",
   "metadata": {},
   "outputs": [
    {
     "data": {
      "text/plain": [
       "Human                156\n",
       "Unknown              145\n",
       "Mutant                51\n",
       "Human / Radiation     11\n",
       "Android                7\n",
       "Symbiote               7\n",
       "Alien                  6\n",
       "Demon                  6\n",
       "Cyborg                 6\n",
       "Kryptonian             5\n",
       "Atlantean              5\n",
       "Asgardian              5\n",
       "Inhuman                4\n",
       "New God                3\n",
       "Human-Kree             2\n",
       "Eternal                2\n",
       "Demi-God               2\n",
       "Saiyan                 2\n",
       "Amazon                 2\n",
       "Human / Altered        2\n",
       "Metahuman              2\n",
       "God / Eternal          2\n",
       "Human-Vulcan           1\n",
       "Martian                1\n",
       "Zombie                 1\n",
       "Korugaran              1\n",
       "Talokite               1\n",
       "Clone                  1\n",
       "Human-Spartoi          1\n",
       "Animal                 1\n",
       "Yautja                 1\n",
       "Human / Cosmic         1\n",
       "Tamaranean             1\n",
       "Mutant / Clone         1\n",
       "Luphomoid              1\n",
       "Frost Giant            1\n",
       "Strontian              1\n",
       "Czarnian               1\n",
       "Bolovaxian             1\n",
       "Human-Vuldarian        1\n",
       "Flora Colossus         1\n",
       "Gorilla                1\n",
       "Icthyo Sapien          1\n",
       "Zen-Whoberian          1\n",
       "Cosmic Entity          1\n",
       "Kakarantharaian        1\n",
       "Vampire                1\n",
       "Bizarro                1\n",
       "Neyaphem               1\n",
       "Xenomorph XX121        1\n",
       "Ungaran                1\n",
       "Yoda's species         1\n",
       "Name: Race, dtype: int64"
      ]
     },
     "execution_count": 38,
     "metadata": {},
     "output_type": "execute_result"
    }
   ],
   "source": [
    "hero_df[\"Race\"].value_counts()"
   ]
  },
  {
   "cell_type": "code",
   "execution_count": 39,
   "id": "a1a9640d",
   "metadata": {},
   "outputs": [
    {
     "data": {
      "text/plain": [
       "good       311\n",
       "bad        132\n",
       "neutral     17\n",
       "Unknown      3\n",
       "Name: Alignment, dtype: int64"
      ]
     },
     "execution_count": 39,
     "metadata": {},
     "output_type": "execute_result"
    }
   ],
   "source": [
    "hero_df[\"Alignment\"].value_counts()"
   ]
  },
  {
   "cell_type": "code",
   "execution_count": 40,
   "id": "8ec9da05",
   "metadata": {},
   "outputs": [
    {
     "data": {
      "text/plain": [
       "Black               127\n",
       "Blond                74\n",
       "Brown                69\n",
       "No Hair              52\n",
       "Red                  41\n",
       "White                22\n",
       "Unknown              18\n",
       "Auburn               13\n",
       "Green                 6\n",
       "Strawberry Blond      5\n",
       "Purple                4\n",
       "Brown / White         4\n",
       "Grey                  4\n",
       "black                 3\n",
       "blond                 3\n",
       "Silver                3\n",
       "Blue                  2\n",
       "Orange                2\n",
       "Pink                  1\n",
       "Gold                  1\n",
       "Red / White           1\n",
       "Indigo                1\n",
       "Red / Orange          1\n",
       "Red / Grey            1\n",
       "Brownn                1\n",
       "Yellow                1\n",
       "Orange / White        1\n",
       "Magenta               1\n",
       "Black / Blue          1\n",
       "Name: Hair color, dtype: int64"
      ]
     },
     "execution_count": 40,
     "metadata": {},
     "output_type": "execute_result"
    }
   ],
   "source": [
    "hero_df[\"Hair color\"].value_counts()"
   ]
  },
  {
   "cell_type": "code",
   "execution_count": 41,
   "id": "69881b62",
   "metadata": {},
   "outputs": [
    {
     "data": {
      "text/plain": [
       "Black               130\n",
       "Blond                77\n",
       "Brown                70\n",
       "No Hair              52\n",
       "Red                  41\n",
       "White                22\n",
       "Unknown              18\n",
       "Auburn               13\n",
       "Green                 6\n",
       "Strawberry Blond      5\n",
       "Purple                4\n",
       "Brown / White         4\n",
       "Grey                  4\n",
       "Silver                3\n",
       "Blue                  2\n",
       "Orange                2\n",
       "Pink                  1\n",
       "Gold                  1\n",
       "Red / White           1\n",
       "Indigo                1\n",
       "Red / Orange          1\n",
       "Red / Grey            1\n",
       "Yellow                1\n",
       "Orange / White        1\n",
       "Magenta               1\n",
       "Black / Blue          1\n",
       "Name: Hair color, dtype: int64"
      ]
     },
     "execution_count": 41,
     "metadata": {},
     "output_type": "execute_result"
    }
   ],
   "source": [
    "hero_df[\"Hair color\"].replace({\"blond\" : \"Blond\", \"black\" : \"Black\", \"Brownn\" : \"Brown\"}, inplace = True)\n",
    "hero_df[\"Hair color\"].value_counts()"
   ]
  },
  {
   "cell_type": "code",
   "execution_count": 42,
   "id": "fea74777",
   "metadata": {},
   "outputs": [
    {
     "data": {
      "text/plain": [
       "blue                       182\n",
       "brown                      102\n",
       "green                       61\n",
       "red                         38\n",
       "Unknown                     17\n",
       "yellow                      13\n",
       "black                       12\n",
       "white                       10\n",
       "grey                         5\n",
       "hazel                        5\n",
       "gold                         3\n",
       "purple                       3\n",
       "yellow (without irises)      2\n",
       "amber                        2\n",
       "violet                       2\n",
       "white / red                  1\n",
       "indigo                       1\n",
       "silver                       1\n",
       "green / blue                 1\n",
       "blue / white                 1\n",
       "yellow / blue                1\n",
       "Name: Eye color, dtype: int64"
      ]
     },
     "execution_count": 42,
     "metadata": {},
     "output_type": "execute_result"
    }
   ],
   "source": [
    "hero_df[\"Eye color\"].value_counts()"
   ]
  },
  {
   "cell_type": "code",
   "execution_count": 43,
   "id": "0bd6db9f",
   "metadata": {},
   "outputs": [
    {
     "data": {
      "text/plain": [
       "Unknown       409\n",
       "green          15\n",
       "blue            7\n",
       "red             7\n",
       "white           5\n",
       "grey            4\n",
       "silver          4\n",
       "purple          3\n",
       "gold            2\n",
       "pink            2\n",
       "yellow          2\n",
       "black           1\n",
       "blue-white      1\n",
       "orange          1\n",
       "Name: Skin color, dtype: int64"
      ]
     },
     "execution_count": 43,
     "metadata": {},
     "output_type": "execute_result"
    }
   ],
   "source": [
    "hero_df[\"Skin color\"].value_counts()"
   ]
  },
  {
   "cell_type": "code",
   "execution_count": 44,
   "id": "9965b2c5",
   "metadata": {},
   "outputs": [
    {
     "data": {
      "text/plain": [
       "{'Height': '183.0 cm', 'Weight': '90.0 kg'}     6\n",
       "{'Height': '183.0 cm', 'Weight': '86.0 kg'}     6\n",
       "{'Height': '178.0 cm', 'Weight': '79.0 kg'}     6\n",
       "{'Height': '188.0 cm', 'Weight': '95.0 kg'}     6\n",
       "{'Height': '180.0 cm', 'Weight': '81.0 kg'}     6\n",
       "                                               ..\n",
       "{'Height': '701.0 cm', 'Weight': '4.0 kg'}      1\n",
       "{'Height': '185.0 cm', 'Weight': '89.0 kg'}     1\n",
       "{'Height': '259.0 cm', 'Weight': '158.0 kg'}    1\n",
       "{'Height': '191.0 cm', 'Weight': '65.0 kg'}     1\n",
       "{'Height': '66.0 cm', 'Weight': '17.0 kg'}      1\n",
       "Name: Measurements, Length: 287, dtype: int64"
      ]
     },
     "execution_count": 44,
     "metadata": {},
     "output_type": "execute_result"
    }
   ],
   "source": [
    "hero_df[\"Measurements\"].value_counts()"
   ]
  },
  {
   "cell_type": "code",
   "execution_count": 45,
   "id": "209d2591",
   "metadata": {},
   "outputs": [],
   "source": [
    "hero_df[\"Measurements\"] = hero_df[\"Measurements\"].str.replace(' ', '')"
   ]
  },
  {
   "cell_type": "code",
   "execution_count": 46,
   "id": "1d2a33c9",
   "metadata": {},
   "outputs": [
    {
     "data": {
      "text/html": [
       "<div>\n",
       "<style scoped>\n",
       "    .dataframe tbody tr th:only-of-type {\n",
       "        vertical-align: middle;\n",
       "    }\n",
       "\n",
       "    .dataframe tbody tr th {\n",
       "        vertical-align: top;\n",
       "    }\n",
       "\n",
       "    .dataframe thead th {\n",
       "        text-align: right;\n",
       "    }\n",
       "</style>\n",
       "<table border=\"1\" class=\"dataframe\">\n",
       "  <thead>\n",
       "    <tr style=\"text-align: right;\">\n",
       "      <th></th>\n",
       "      <th>Hero|Publisher</th>\n",
       "      <th>Gender</th>\n",
       "      <th>Race</th>\n",
       "      <th>Alignment</th>\n",
       "      <th>Hair color</th>\n",
       "      <th>Eye color</th>\n",
       "      <th>Skin color</th>\n",
       "      <th>Measurements</th>\n",
       "    </tr>\n",
       "  </thead>\n",
       "  <tbody>\n",
       "    <tr>\n",
       "      <th>0</th>\n",
       "      <td>A-Bomb|Marvel Comics</td>\n",
       "      <td>Male</td>\n",
       "      <td>Human</td>\n",
       "      <td>good</td>\n",
       "      <td>No Hair</td>\n",
       "      <td>yellow</td>\n",
       "      <td>Unknown</td>\n",
       "      <td>{'Height':'203.0cm','Weight':'441.0kg'}</td>\n",
       "    </tr>\n",
       "    <tr>\n",
       "      <th>1</th>\n",
       "      <td>Abe Sapien|Dark Horse Comics</td>\n",
       "      <td>Male</td>\n",
       "      <td>Icthyo Sapien</td>\n",
       "      <td>good</td>\n",
       "      <td>No Hair</td>\n",
       "      <td>blue</td>\n",
       "      <td>blue</td>\n",
       "      <td>{'Height':'191.0cm','Weight':'65.0kg'}</td>\n",
       "    </tr>\n",
       "    <tr>\n",
       "      <th>2</th>\n",
       "      <td>Abin Sur|DC Comics</td>\n",
       "      <td>Male</td>\n",
       "      <td>Ungaran</td>\n",
       "      <td>good</td>\n",
       "      <td>No Hair</td>\n",
       "      <td>blue</td>\n",
       "      <td>red</td>\n",
       "      <td>{'Height':'185.0cm','Weight':'90.0kg'}</td>\n",
       "    </tr>\n",
       "    <tr>\n",
       "      <th>3</th>\n",
       "      <td>Abomination|Marvel Comics</td>\n",
       "      <td>Male</td>\n",
       "      <td>Human / Radiation</td>\n",
       "      <td>bad</td>\n",
       "      <td>No Hair</td>\n",
       "      <td>green</td>\n",
       "      <td>Unknown</td>\n",
       "      <td>{'Height':'203.0cm','Weight':'441.0kg'}</td>\n",
       "    </tr>\n",
       "    <tr>\n",
       "      <th>4</th>\n",
       "      <td>Absorbing Man|Marvel Comics</td>\n",
       "      <td>Male</td>\n",
       "      <td>Human</td>\n",
       "      <td>bad</td>\n",
       "      <td>No Hair</td>\n",
       "      <td>blue</td>\n",
       "      <td>Unknown</td>\n",
       "      <td>{'Height':'193.0cm','Weight':'122.0kg'}</td>\n",
       "    </tr>\n",
       "  </tbody>\n",
       "</table>\n",
       "</div>"
      ],
      "text/plain": [
       "                 Hero|Publisher Gender               Race Alignment  \\\n",
       "0          A-Bomb|Marvel Comics   Male              Human      good   \n",
       "1  Abe Sapien|Dark Horse Comics   Male      Icthyo Sapien      good   \n",
       "2            Abin Sur|DC Comics   Male            Ungaran      good   \n",
       "3     Abomination|Marvel Comics   Male  Human / Radiation       bad   \n",
       "4   Absorbing Man|Marvel Comics   Male              Human       bad   \n",
       "\n",
       "  Hair color Eye color Skin color                             Measurements  \n",
       "0    No Hair    yellow    Unknown  {'Height':'203.0cm','Weight':'441.0kg'}  \n",
       "1    No Hair      blue       blue   {'Height':'191.0cm','Weight':'65.0kg'}  \n",
       "2    No Hair      blue        red   {'Height':'185.0cm','Weight':'90.0kg'}  \n",
       "3    No Hair     green    Unknown  {'Height':'203.0cm','Weight':'441.0kg'}  \n",
       "4    No Hair      blue    Unknown  {'Height':'193.0cm','Weight':'122.0kg'}  "
      ]
     },
     "execution_count": 46,
     "metadata": {},
     "output_type": "execute_result"
    }
   ],
   "source": [
    "hero_df.head()"
   ]
  },
  {
   "cell_type": "code",
   "execution_count": 47,
   "id": "ea159cee",
   "metadata": {},
   "outputs": [],
   "source": [
    "hero_df[[\"Hero\", \"Publisher\"]] = hero_df[\"Hero|Publisher\"].str.split(\"|\", expand = True)"
   ]
  },
  {
   "cell_type": "code",
   "execution_count": 48,
   "id": "0c256141",
   "metadata": {},
   "outputs": [
    {
     "data": {
      "text/html": [
       "<div>\n",
       "<style scoped>\n",
       "    .dataframe tbody tr th:only-of-type {\n",
       "        vertical-align: middle;\n",
       "    }\n",
       "\n",
       "    .dataframe tbody tr th {\n",
       "        vertical-align: top;\n",
       "    }\n",
       "\n",
       "    .dataframe thead th {\n",
       "        text-align: right;\n",
       "    }\n",
       "</style>\n",
       "<table border=\"1\" class=\"dataframe\">\n",
       "  <thead>\n",
       "    <tr style=\"text-align: right;\">\n",
       "      <th></th>\n",
       "      <th>Hero|Publisher</th>\n",
       "      <th>Gender</th>\n",
       "      <th>Race</th>\n",
       "      <th>Alignment</th>\n",
       "      <th>Hair color</th>\n",
       "      <th>Eye color</th>\n",
       "      <th>Skin color</th>\n",
       "      <th>Measurements</th>\n",
       "      <th>Hero</th>\n",
       "      <th>Publisher</th>\n",
       "    </tr>\n",
       "  </thead>\n",
       "  <tbody>\n",
       "    <tr>\n",
       "      <th>0</th>\n",
       "      <td>A-Bomb|Marvel Comics</td>\n",
       "      <td>Male</td>\n",
       "      <td>Human</td>\n",
       "      <td>good</td>\n",
       "      <td>No Hair</td>\n",
       "      <td>yellow</td>\n",
       "      <td>Unknown</td>\n",
       "      <td>{'Height':'203.0cm','Weight':'441.0kg'}</td>\n",
       "      <td>A-Bomb</td>\n",
       "      <td>Marvel Comics</td>\n",
       "    </tr>\n",
       "    <tr>\n",
       "      <th>1</th>\n",
       "      <td>Abe Sapien|Dark Horse Comics</td>\n",
       "      <td>Male</td>\n",
       "      <td>Icthyo Sapien</td>\n",
       "      <td>good</td>\n",
       "      <td>No Hair</td>\n",
       "      <td>blue</td>\n",
       "      <td>blue</td>\n",
       "      <td>{'Height':'191.0cm','Weight':'65.0kg'}</td>\n",
       "      <td>Abe Sapien</td>\n",
       "      <td>Dark Horse Comics</td>\n",
       "    </tr>\n",
       "    <tr>\n",
       "      <th>2</th>\n",
       "      <td>Abin Sur|DC Comics</td>\n",
       "      <td>Male</td>\n",
       "      <td>Ungaran</td>\n",
       "      <td>good</td>\n",
       "      <td>No Hair</td>\n",
       "      <td>blue</td>\n",
       "      <td>red</td>\n",
       "      <td>{'Height':'185.0cm','Weight':'90.0kg'}</td>\n",
       "      <td>Abin Sur</td>\n",
       "      <td>DC Comics</td>\n",
       "    </tr>\n",
       "    <tr>\n",
       "      <th>3</th>\n",
       "      <td>Abomination|Marvel Comics</td>\n",
       "      <td>Male</td>\n",
       "      <td>Human / Radiation</td>\n",
       "      <td>bad</td>\n",
       "      <td>No Hair</td>\n",
       "      <td>green</td>\n",
       "      <td>Unknown</td>\n",
       "      <td>{'Height':'203.0cm','Weight':'441.0kg'}</td>\n",
       "      <td>Abomination</td>\n",
       "      <td>Marvel Comics</td>\n",
       "    </tr>\n",
       "    <tr>\n",
       "      <th>4</th>\n",
       "      <td>Absorbing Man|Marvel Comics</td>\n",
       "      <td>Male</td>\n",
       "      <td>Human</td>\n",
       "      <td>bad</td>\n",
       "      <td>No Hair</td>\n",
       "      <td>blue</td>\n",
       "      <td>Unknown</td>\n",
       "      <td>{'Height':'193.0cm','Weight':'122.0kg'}</td>\n",
       "      <td>Absorbing Man</td>\n",
       "      <td>Marvel Comics</td>\n",
       "    </tr>\n",
       "  </tbody>\n",
       "</table>\n",
       "</div>"
      ],
      "text/plain": [
       "                 Hero|Publisher Gender               Race Alignment  \\\n",
       "0          A-Bomb|Marvel Comics   Male              Human      good   \n",
       "1  Abe Sapien|Dark Horse Comics   Male      Icthyo Sapien      good   \n",
       "2            Abin Sur|DC Comics   Male            Ungaran      good   \n",
       "3     Abomination|Marvel Comics   Male  Human / Radiation       bad   \n",
       "4   Absorbing Man|Marvel Comics   Male              Human       bad   \n",
       "\n",
       "  Hair color Eye color Skin color                             Measurements  \\\n",
       "0    No Hair    yellow    Unknown  {'Height':'203.0cm','Weight':'441.0kg'}   \n",
       "1    No Hair      blue       blue   {'Height':'191.0cm','Weight':'65.0kg'}   \n",
       "2    No Hair      blue        red   {'Height':'185.0cm','Weight':'90.0kg'}   \n",
       "3    No Hair     green    Unknown  {'Height':'203.0cm','Weight':'441.0kg'}   \n",
       "4    No Hair      blue    Unknown  {'Height':'193.0cm','Weight':'122.0kg'}   \n",
       "\n",
       "            Hero          Publisher  \n",
       "0         A-Bomb      Marvel Comics  \n",
       "1     Abe Sapien  Dark Horse Comics  \n",
       "2       Abin Sur          DC Comics  \n",
       "3    Abomination      Marvel Comics  \n",
       "4  Absorbing Man      Marvel Comics  "
      ]
     },
     "execution_count": 48,
     "metadata": {},
     "output_type": "execute_result"
    }
   ],
   "source": [
    "hero_df.head()"
   ]
  },
  {
   "cell_type": "code",
   "execution_count": 49,
   "id": "bdf8e266",
   "metadata": {},
   "outputs": [],
   "source": [
    "hero_df = hero_df.drop(columns = [\"Hero|Publisher\"])"
   ]
  },
  {
   "cell_type": "code",
   "execution_count": 50,
   "id": "a1ff353d",
   "metadata": {},
   "outputs": [
    {
     "data": {
      "text/html": [
       "<div>\n",
       "<style scoped>\n",
       "    .dataframe tbody tr th:only-of-type {\n",
       "        vertical-align: middle;\n",
       "    }\n",
       "\n",
       "    .dataframe tbody tr th {\n",
       "        vertical-align: top;\n",
       "    }\n",
       "\n",
       "    .dataframe thead th {\n",
       "        text-align: right;\n",
       "    }\n",
       "</style>\n",
       "<table border=\"1\" class=\"dataframe\">\n",
       "  <thead>\n",
       "    <tr style=\"text-align: right;\">\n",
       "      <th></th>\n",
       "      <th>Gender</th>\n",
       "      <th>Race</th>\n",
       "      <th>Alignment</th>\n",
       "      <th>Hair color</th>\n",
       "      <th>Eye color</th>\n",
       "      <th>Skin color</th>\n",
       "      <th>Measurements</th>\n",
       "      <th>Hero</th>\n",
       "      <th>Publisher</th>\n",
       "    </tr>\n",
       "  </thead>\n",
       "  <tbody>\n",
       "    <tr>\n",
       "      <th>0</th>\n",
       "      <td>Male</td>\n",
       "      <td>Human</td>\n",
       "      <td>good</td>\n",
       "      <td>No Hair</td>\n",
       "      <td>yellow</td>\n",
       "      <td>Unknown</td>\n",
       "      <td>{'Height':'203.0cm','Weight':'441.0kg'}</td>\n",
       "      <td>A-Bomb</td>\n",
       "      <td>Marvel Comics</td>\n",
       "    </tr>\n",
       "    <tr>\n",
       "      <th>1</th>\n",
       "      <td>Male</td>\n",
       "      <td>Icthyo Sapien</td>\n",
       "      <td>good</td>\n",
       "      <td>No Hair</td>\n",
       "      <td>blue</td>\n",
       "      <td>blue</td>\n",
       "      <td>{'Height':'191.0cm','Weight':'65.0kg'}</td>\n",
       "      <td>Abe Sapien</td>\n",
       "      <td>Dark Horse Comics</td>\n",
       "    </tr>\n",
       "    <tr>\n",
       "      <th>2</th>\n",
       "      <td>Male</td>\n",
       "      <td>Ungaran</td>\n",
       "      <td>good</td>\n",
       "      <td>No Hair</td>\n",
       "      <td>blue</td>\n",
       "      <td>red</td>\n",
       "      <td>{'Height':'185.0cm','Weight':'90.0kg'}</td>\n",
       "      <td>Abin Sur</td>\n",
       "      <td>DC Comics</td>\n",
       "    </tr>\n",
       "    <tr>\n",
       "      <th>3</th>\n",
       "      <td>Male</td>\n",
       "      <td>Human / Radiation</td>\n",
       "      <td>bad</td>\n",
       "      <td>No Hair</td>\n",
       "      <td>green</td>\n",
       "      <td>Unknown</td>\n",
       "      <td>{'Height':'203.0cm','Weight':'441.0kg'}</td>\n",
       "      <td>Abomination</td>\n",
       "      <td>Marvel Comics</td>\n",
       "    </tr>\n",
       "    <tr>\n",
       "      <th>4</th>\n",
       "      <td>Male</td>\n",
       "      <td>Human</td>\n",
       "      <td>bad</td>\n",
       "      <td>No Hair</td>\n",
       "      <td>blue</td>\n",
       "      <td>Unknown</td>\n",
       "      <td>{'Height':'193.0cm','Weight':'122.0kg'}</td>\n",
       "      <td>Absorbing Man</td>\n",
       "      <td>Marvel Comics</td>\n",
       "    </tr>\n",
       "  </tbody>\n",
       "</table>\n",
       "</div>"
      ],
      "text/plain": [
       "  Gender               Race Alignment Hair color Eye color Skin color  \\\n",
       "0   Male              Human      good    No Hair    yellow    Unknown   \n",
       "1   Male      Icthyo Sapien      good    No Hair      blue       blue   \n",
       "2   Male            Ungaran      good    No Hair      blue        red   \n",
       "3   Male  Human / Radiation       bad    No Hair     green    Unknown   \n",
       "4   Male              Human       bad    No Hair      blue    Unknown   \n",
       "\n",
       "                              Measurements           Hero          Publisher  \n",
       "0  {'Height':'203.0cm','Weight':'441.0kg'}         A-Bomb      Marvel Comics  \n",
       "1   {'Height':'191.0cm','Weight':'65.0kg'}     Abe Sapien  Dark Horse Comics  \n",
       "2   {'Height':'185.0cm','Weight':'90.0kg'}       Abin Sur          DC Comics  \n",
       "3  {'Height':'203.0cm','Weight':'441.0kg'}    Abomination      Marvel Comics  \n",
       "4  {'Height':'193.0cm','Weight':'122.0kg'}  Absorbing Man      Marvel Comics  "
      ]
     },
     "execution_count": 50,
     "metadata": {},
     "output_type": "execute_result"
    }
   ],
   "source": [
    "hero_df.head()"
   ]
  },
  {
   "cell_type": "code",
   "execution_count": 51,
   "id": "8eed9199",
   "metadata": {},
   "outputs": [
    {
     "name": "stdout",
     "output_type": "stream",
     "text": [
      "<class 'pandas.core.frame.DataFrame'>\n",
      "RangeIndex: 463 entries, 0 to 462\n",
      "Data columns (total 9 columns):\n",
      " #   Column        Non-Null Count  Dtype \n",
      "---  ------        --------------  ----- \n",
      " 0   Gender        463 non-null    object\n",
      " 1   Race          463 non-null    object\n",
      " 2   Alignment     463 non-null    object\n",
      " 3   Hair color    463 non-null    object\n",
      " 4   Eye color     463 non-null    object\n",
      " 5   Skin color    463 non-null    object\n",
      " 6   Measurements  463 non-null    object\n",
      " 7   Hero          463 non-null    object\n",
      " 8   Publisher     463 non-null    object\n",
      "dtypes: object(9)\n",
      "memory usage: 32.7+ KB\n"
     ]
    }
   ],
   "source": [
    "hero_df.info()"
   ]
  },
  {
   "cell_type": "code",
   "execution_count": 52,
   "id": "658e2d83",
   "metadata": {},
   "outputs": [
    {
     "data": {
      "text/html": [
       "<div>\n",
       "<style scoped>\n",
       "    .dataframe tbody tr th:only-of-type {\n",
       "        vertical-align: middle;\n",
       "    }\n",
       "\n",
       "    .dataframe tbody tr th {\n",
       "        vertical-align: top;\n",
       "    }\n",
       "\n",
       "    .dataframe thead th {\n",
       "        text-align: right;\n",
       "    }\n",
       "</style>\n",
       "<table border=\"1\" class=\"dataframe\">\n",
       "  <thead>\n",
       "    <tr style=\"text-align: right;\">\n",
       "      <th></th>\n",
       "      <th>Gender</th>\n",
       "      <th>Race</th>\n",
       "      <th>Alignment</th>\n",
       "      <th>Hair color</th>\n",
       "      <th>Eye color</th>\n",
       "      <th>Skin color</th>\n",
       "      <th>Measurements</th>\n",
       "      <th>Hero</th>\n",
       "      <th>Publisher</th>\n",
       "      <th>Height in cm</th>\n",
       "      <th>Weight in kg</th>\n",
       "    </tr>\n",
       "  </thead>\n",
       "  <tbody>\n",
       "    <tr>\n",
       "      <th>0</th>\n",
       "      <td>Male</td>\n",
       "      <td>Human</td>\n",
       "      <td>good</td>\n",
       "      <td>No Hair</td>\n",
       "      <td>yellow</td>\n",
       "      <td>Unknown</td>\n",
       "      <td>{'Height':'203.0cm','Weight':'441.0kg'}</td>\n",
       "      <td>A-Bomb</td>\n",
       "      <td>Marvel Comics</td>\n",
       "      <td>{'Height':'203.0cm'</td>\n",
       "      <td>'Weight':'441.0kg'}</td>\n",
       "    </tr>\n",
       "    <tr>\n",
       "      <th>1</th>\n",
       "      <td>Male</td>\n",
       "      <td>Icthyo Sapien</td>\n",
       "      <td>good</td>\n",
       "      <td>No Hair</td>\n",
       "      <td>blue</td>\n",
       "      <td>blue</td>\n",
       "      <td>{'Height':'191.0cm','Weight':'65.0kg'}</td>\n",
       "      <td>Abe Sapien</td>\n",
       "      <td>Dark Horse Comics</td>\n",
       "      <td>{'Height':'191.0cm'</td>\n",
       "      <td>'Weight':'65.0kg'}</td>\n",
       "    </tr>\n",
       "    <tr>\n",
       "      <th>2</th>\n",
       "      <td>Male</td>\n",
       "      <td>Ungaran</td>\n",
       "      <td>good</td>\n",
       "      <td>No Hair</td>\n",
       "      <td>blue</td>\n",
       "      <td>red</td>\n",
       "      <td>{'Height':'185.0cm','Weight':'90.0kg'}</td>\n",
       "      <td>Abin Sur</td>\n",
       "      <td>DC Comics</td>\n",
       "      <td>{'Height':'185.0cm'</td>\n",
       "      <td>'Weight':'90.0kg'}</td>\n",
       "    </tr>\n",
       "    <tr>\n",
       "      <th>3</th>\n",
       "      <td>Male</td>\n",
       "      <td>Human / Radiation</td>\n",
       "      <td>bad</td>\n",
       "      <td>No Hair</td>\n",
       "      <td>green</td>\n",
       "      <td>Unknown</td>\n",
       "      <td>{'Height':'203.0cm','Weight':'441.0kg'}</td>\n",
       "      <td>Abomination</td>\n",
       "      <td>Marvel Comics</td>\n",
       "      <td>{'Height':'203.0cm'</td>\n",
       "      <td>'Weight':'441.0kg'}</td>\n",
       "    </tr>\n",
       "    <tr>\n",
       "      <th>4</th>\n",
       "      <td>Male</td>\n",
       "      <td>Human</td>\n",
       "      <td>bad</td>\n",
       "      <td>No Hair</td>\n",
       "      <td>blue</td>\n",
       "      <td>Unknown</td>\n",
       "      <td>{'Height':'193.0cm','Weight':'122.0kg'}</td>\n",
       "      <td>Absorbing Man</td>\n",
       "      <td>Marvel Comics</td>\n",
       "      <td>{'Height':'193.0cm'</td>\n",
       "      <td>'Weight':'122.0kg'}</td>\n",
       "    </tr>\n",
       "  </tbody>\n",
       "</table>\n",
       "</div>"
      ],
      "text/plain": [
       "  Gender               Race Alignment Hair color Eye color Skin color  \\\n",
       "0   Male              Human      good    No Hair    yellow    Unknown   \n",
       "1   Male      Icthyo Sapien      good    No Hair      blue       blue   \n",
       "2   Male            Ungaran      good    No Hair      blue        red   \n",
       "3   Male  Human / Radiation       bad    No Hair     green    Unknown   \n",
       "4   Male              Human       bad    No Hair      blue    Unknown   \n",
       "\n",
       "                              Measurements           Hero          Publisher  \\\n",
       "0  {'Height':'203.0cm','Weight':'441.0kg'}         A-Bomb      Marvel Comics   \n",
       "1   {'Height':'191.0cm','Weight':'65.0kg'}     Abe Sapien  Dark Horse Comics   \n",
       "2   {'Height':'185.0cm','Weight':'90.0kg'}       Abin Sur          DC Comics   \n",
       "3  {'Height':'203.0cm','Weight':'441.0kg'}    Abomination      Marvel Comics   \n",
       "4  {'Height':'193.0cm','Weight':'122.0kg'}  Absorbing Man      Marvel Comics   \n",
       "\n",
       "          Height in cm         Weight in kg  \n",
       "0  {'Height':'203.0cm'  'Weight':'441.0kg'}  \n",
       "1  {'Height':'191.0cm'   'Weight':'65.0kg'}  \n",
       "2  {'Height':'185.0cm'   'Weight':'90.0kg'}  \n",
       "3  {'Height':'203.0cm'  'Weight':'441.0kg'}  \n",
       "4  {'Height':'193.0cm'  'Weight':'122.0kg'}  "
      ]
     },
     "execution_count": 52,
     "metadata": {},
     "output_type": "execute_result"
    }
   ],
   "source": [
    "hero_df[[\"Height in cm\", \"Weight in kg\"]] = hero_df[\"Measurements\"].str.split(\",\", expand = True)\n",
    "hero_df.head()"
   ]
  },
  {
   "cell_type": "code",
   "execution_count": 53,
   "id": "69ea72c1",
   "metadata": {},
   "outputs": [
    {
     "data": {
      "text/html": [
       "<div>\n",
       "<style scoped>\n",
       "    .dataframe tbody tr th:only-of-type {\n",
       "        vertical-align: middle;\n",
       "    }\n",
       "\n",
       "    .dataframe tbody tr th {\n",
       "        vertical-align: top;\n",
       "    }\n",
       "\n",
       "    .dataframe thead th {\n",
       "        text-align: right;\n",
       "    }\n",
       "</style>\n",
       "<table border=\"1\" class=\"dataframe\">\n",
       "  <thead>\n",
       "    <tr style=\"text-align: right;\">\n",
       "      <th></th>\n",
       "      <th>Gender</th>\n",
       "      <th>Race</th>\n",
       "      <th>Alignment</th>\n",
       "      <th>Hair color</th>\n",
       "      <th>Eye color</th>\n",
       "      <th>Skin color</th>\n",
       "      <th>Hero</th>\n",
       "      <th>Publisher</th>\n",
       "      <th>Height in cm</th>\n",
       "      <th>Weight in kg</th>\n",
       "    </tr>\n",
       "  </thead>\n",
       "  <tbody>\n",
       "    <tr>\n",
       "      <th>0</th>\n",
       "      <td>Male</td>\n",
       "      <td>Human</td>\n",
       "      <td>good</td>\n",
       "      <td>No Hair</td>\n",
       "      <td>yellow</td>\n",
       "      <td>Unknown</td>\n",
       "      <td>A-Bomb</td>\n",
       "      <td>Marvel Comics</td>\n",
       "      <td>{'Height':'203.0cm'</td>\n",
       "      <td>'Weight':'441.0kg'}</td>\n",
       "    </tr>\n",
       "    <tr>\n",
       "      <th>1</th>\n",
       "      <td>Male</td>\n",
       "      <td>Icthyo Sapien</td>\n",
       "      <td>good</td>\n",
       "      <td>No Hair</td>\n",
       "      <td>blue</td>\n",
       "      <td>blue</td>\n",
       "      <td>Abe Sapien</td>\n",
       "      <td>Dark Horse Comics</td>\n",
       "      <td>{'Height':'191.0cm'</td>\n",
       "      <td>'Weight':'65.0kg'}</td>\n",
       "    </tr>\n",
       "    <tr>\n",
       "      <th>2</th>\n",
       "      <td>Male</td>\n",
       "      <td>Ungaran</td>\n",
       "      <td>good</td>\n",
       "      <td>No Hair</td>\n",
       "      <td>blue</td>\n",
       "      <td>red</td>\n",
       "      <td>Abin Sur</td>\n",
       "      <td>DC Comics</td>\n",
       "      <td>{'Height':'185.0cm'</td>\n",
       "      <td>'Weight':'90.0kg'}</td>\n",
       "    </tr>\n",
       "    <tr>\n",
       "      <th>3</th>\n",
       "      <td>Male</td>\n",
       "      <td>Human / Radiation</td>\n",
       "      <td>bad</td>\n",
       "      <td>No Hair</td>\n",
       "      <td>green</td>\n",
       "      <td>Unknown</td>\n",
       "      <td>Abomination</td>\n",
       "      <td>Marvel Comics</td>\n",
       "      <td>{'Height':'203.0cm'</td>\n",
       "      <td>'Weight':'441.0kg'}</td>\n",
       "    </tr>\n",
       "    <tr>\n",
       "      <th>4</th>\n",
       "      <td>Male</td>\n",
       "      <td>Human</td>\n",
       "      <td>bad</td>\n",
       "      <td>No Hair</td>\n",
       "      <td>blue</td>\n",
       "      <td>Unknown</td>\n",
       "      <td>Absorbing Man</td>\n",
       "      <td>Marvel Comics</td>\n",
       "      <td>{'Height':'193.0cm'</td>\n",
       "      <td>'Weight':'122.0kg'}</td>\n",
       "    </tr>\n",
       "  </tbody>\n",
       "</table>\n",
       "</div>"
      ],
      "text/plain": [
       "  Gender               Race Alignment Hair color Eye color Skin color  \\\n",
       "0   Male              Human      good    No Hair    yellow    Unknown   \n",
       "1   Male      Icthyo Sapien      good    No Hair      blue       blue   \n",
       "2   Male            Ungaran      good    No Hair      blue        red   \n",
       "3   Male  Human / Radiation       bad    No Hair     green    Unknown   \n",
       "4   Male              Human       bad    No Hair      blue    Unknown   \n",
       "\n",
       "            Hero          Publisher         Height in cm         Weight in kg  \n",
       "0         A-Bomb      Marvel Comics  {'Height':'203.0cm'  'Weight':'441.0kg'}  \n",
       "1     Abe Sapien  Dark Horse Comics  {'Height':'191.0cm'   'Weight':'65.0kg'}  \n",
       "2       Abin Sur          DC Comics  {'Height':'185.0cm'   'Weight':'90.0kg'}  \n",
       "3    Abomination      Marvel Comics  {'Height':'203.0cm'  'Weight':'441.0kg'}  \n",
       "4  Absorbing Man      Marvel Comics  {'Height':'193.0cm'  'Weight':'122.0kg'}  "
      ]
     },
     "execution_count": 53,
     "metadata": {},
     "output_type": "execute_result"
    }
   ],
   "source": [
    "hero_df = hero_df.drop(columns = [\"Measurements\"])\n",
    "hero_df.head()"
   ]
  },
  {
   "cell_type": "code",
   "execution_count": 54,
   "id": "151f7994",
   "metadata": {},
   "outputs": [
    {
     "data": {
      "text/plain": [
       "0    203.0\n",
       "1    191.0\n",
       "2    185.0\n",
       "3    203.0\n",
       "4    193.0\n",
       "Name: Height in cm, dtype: object"
      ]
     },
     "execution_count": 54,
     "metadata": {},
     "output_type": "execute_result"
    }
   ],
   "source": [
    "to_replace = [\"{\", \"}\", \":\", \"'\", \"Height\", \"cm\"]\n",
    "for char in to_replace:\n",
    "    hero_df[\"Height in cm\"] = hero_df[\"Height in cm\"].str.replace(char,'', regex = False)\n",
    "  \n",
    "hero_df[\"Height in cm\"].head()"
   ]
  },
  {
   "cell_type": "code",
   "execution_count": 55,
   "id": "e206825a",
   "metadata": {},
   "outputs": [
    {
     "data": {
      "text/plain": [
       "0    441.0\n",
       "1     65.0\n",
       "2     90.0\n",
       "3    441.0\n",
       "4    122.0\n",
       "Name: Weight in kg, dtype: object"
      ]
     },
     "execution_count": 55,
     "metadata": {},
     "output_type": "execute_result"
    }
   ],
   "source": [
    "to_replace = [\"{\", \"}\", \":\", \"'\", \"Weight\", \"kg\"]\n",
    "for char in to_replace:\n",
    "    hero_df[\"Weight in kg\"] = hero_df[\"Weight in kg\"].str.replace(char,'', regex = False)\n",
    "  \n",
    "hero_df[\"Weight in kg\"].head()"
   ]
  },
  {
   "cell_type": "code",
   "execution_count": 56,
   "id": "25f3603c",
   "metadata": {},
   "outputs": [
    {
     "name": "stdout",
     "output_type": "stream",
     "text": [
      "<class 'pandas.core.frame.DataFrame'>\n",
      "RangeIndex: 463 entries, 0 to 462\n",
      "Data columns (total 10 columns):\n",
      " #   Column        Non-Null Count  Dtype  \n",
      "---  ------        --------------  -----  \n",
      " 0   Gender        463 non-null    object \n",
      " 1   Race          463 non-null    object \n",
      " 2   Alignment     463 non-null    object \n",
      " 3   Hair color    463 non-null    object \n",
      " 4   Eye color     463 non-null    object \n",
      " 5   Skin color    463 non-null    object \n",
      " 6   Hero          463 non-null    object \n",
      " 7   Publisher     463 non-null    object \n",
      " 8   Height in cm  463 non-null    float64\n",
      " 9   Weight in kg  463 non-null    float64\n",
      "dtypes: float64(2), object(8)\n",
      "memory usage: 36.3+ KB\n"
     ]
    }
   ],
   "source": [
    "hero_df[\"Height in cm\"] = hero_df[\"Height in cm\"].astype(float)\n",
    "hero_df[\"Weight in kg\"] = hero_df[\"Weight in kg\"].astype(float)\n",
    "hero_df.info()"
   ]
  },
  {
   "cell_type": "code",
   "execution_count": 57,
   "id": "49d11862",
   "metadata": {},
   "outputs": [
    {
     "data": {
      "text/html": [
       "<div>\n",
       "<style scoped>\n",
       "    .dataframe tbody tr th:only-of-type {\n",
       "        vertical-align: middle;\n",
       "    }\n",
       "\n",
       "    .dataframe tbody tr th {\n",
       "        vertical-align: top;\n",
       "    }\n",
       "\n",
       "    .dataframe thead th {\n",
       "        text-align: right;\n",
       "    }\n",
       "</style>\n",
       "<table border=\"1\" class=\"dataframe\">\n",
       "  <thead>\n",
       "    <tr style=\"text-align: right;\">\n",
       "      <th></th>\n",
       "      <th>Gender</th>\n",
       "      <th>Race</th>\n",
       "      <th>Alignment</th>\n",
       "      <th>Hair color</th>\n",
       "      <th>Eye color</th>\n",
       "      <th>Skin color</th>\n",
       "      <th>Hero</th>\n",
       "      <th>Publisher</th>\n",
       "      <th>Height in cm</th>\n",
       "      <th>Weight in kg</th>\n",
       "    </tr>\n",
       "  </thead>\n",
       "  <tbody>\n",
       "    <tr>\n",
       "      <th>0</th>\n",
       "      <td>Male</td>\n",
       "      <td>Human</td>\n",
       "      <td>good</td>\n",
       "      <td>No Hair</td>\n",
       "      <td>yellow</td>\n",
       "      <td>Unknown</td>\n",
       "      <td>A-Bomb</td>\n",
       "      <td>Marvel Comics</td>\n",
       "      <td>203.0</td>\n",
       "      <td>441.0</td>\n",
       "    </tr>\n",
       "    <tr>\n",
       "      <th>1</th>\n",
       "      <td>Male</td>\n",
       "      <td>Icthyo Sapien</td>\n",
       "      <td>good</td>\n",
       "      <td>No Hair</td>\n",
       "      <td>blue</td>\n",
       "      <td>blue</td>\n",
       "      <td>Abe Sapien</td>\n",
       "      <td>Dark Horse Comics</td>\n",
       "      <td>191.0</td>\n",
       "      <td>65.0</td>\n",
       "    </tr>\n",
       "    <tr>\n",
       "      <th>2</th>\n",
       "      <td>Male</td>\n",
       "      <td>Ungaran</td>\n",
       "      <td>good</td>\n",
       "      <td>No Hair</td>\n",
       "      <td>blue</td>\n",
       "      <td>red</td>\n",
       "      <td>Abin Sur</td>\n",
       "      <td>DC Comics</td>\n",
       "      <td>185.0</td>\n",
       "      <td>90.0</td>\n",
       "    </tr>\n",
       "    <tr>\n",
       "      <th>3</th>\n",
       "      <td>Male</td>\n",
       "      <td>Human / Radiation</td>\n",
       "      <td>bad</td>\n",
       "      <td>No Hair</td>\n",
       "      <td>green</td>\n",
       "      <td>Unknown</td>\n",
       "      <td>Abomination</td>\n",
       "      <td>Marvel Comics</td>\n",
       "      <td>203.0</td>\n",
       "      <td>441.0</td>\n",
       "    </tr>\n",
       "    <tr>\n",
       "      <th>4</th>\n",
       "      <td>Male</td>\n",
       "      <td>Human</td>\n",
       "      <td>bad</td>\n",
       "      <td>No Hair</td>\n",
       "      <td>blue</td>\n",
       "      <td>Unknown</td>\n",
       "      <td>Absorbing Man</td>\n",
       "      <td>Marvel Comics</td>\n",
       "      <td>193.0</td>\n",
       "      <td>122.0</td>\n",
       "    </tr>\n",
       "    <tr>\n",
       "      <th>5</th>\n",
       "      <td>Male</td>\n",
       "      <td>Human</td>\n",
       "      <td>good</td>\n",
       "      <td>Blond</td>\n",
       "      <td>blue</td>\n",
       "      <td>Unknown</td>\n",
       "      <td>Adam Strange</td>\n",
       "      <td>DC Comics</td>\n",
       "      <td>185.0</td>\n",
       "      <td>88.0</td>\n",
       "    </tr>\n",
       "    <tr>\n",
       "      <th>6</th>\n",
       "      <td>Male</td>\n",
       "      <td>Human</td>\n",
       "      <td>good</td>\n",
       "      <td>Brown</td>\n",
       "      <td>brown</td>\n",
       "      <td>Unknown</td>\n",
       "      <td>Agent Bob</td>\n",
       "      <td>Marvel Comics</td>\n",
       "      <td>178.0</td>\n",
       "      <td>81.0</td>\n",
       "    </tr>\n",
       "    <tr>\n",
       "      <th>7</th>\n",
       "      <td>Male</td>\n",
       "      <td>Unknown</td>\n",
       "      <td>good</td>\n",
       "      <td>Unknown</td>\n",
       "      <td>Unknown</td>\n",
       "      <td>Unknown</td>\n",
       "      <td>Agent Zero</td>\n",
       "      <td>Marvel Comics</td>\n",
       "      <td>191.0</td>\n",
       "      <td>104.0</td>\n",
       "    </tr>\n",
       "    <tr>\n",
       "      <th>8</th>\n",
       "      <td>Male</td>\n",
       "      <td>Unknown</td>\n",
       "      <td>bad</td>\n",
       "      <td>White</td>\n",
       "      <td>blue</td>\n",
       "      <td>Unknown</td>\n",
       "      <td>Air-Walker</td>\n",
       "      <td>Marvel Comics</td>\n",
       "      <td>188.0</td>\n",
       "      <td>108.0</td>\n",
       "    </tr>\n",
       "    <tr>\n",
       "      <th>9</th>\n",
       "      <td>Male</td>\n",
       "      <td>Cyborg</td>\n",
       "      <td>bad</td>\n",
       "      <td>Black</td>\n",
       "      <td>brown</td>\n",
       "      <td>Unknown</td>\n",
       "      <td>Ajax</td>\n",
       "      <td>Marvel Comics</td>\n",
       "      <td>193.0</td>\n",
       "      <td>90.0</td>\n",
       "    </tr>\n",
       "  </tbody>\n",
       "</table>\n",
       "</div>"
      ],
      "text/plain": [
       "  Gender               Race Alignment Hair color Eye color Skin color  \\\n",
       "0   Male              Human      good    No Hair    yellow    Unknown   \n",
       "1   Male      Icthyo Sapien      good    No Hair      blue       blue   \n",
       "2   Male            Ungaran      good    No Hair      blue        red   \n",
       "3   Male  Human / Radiation       bad    No Hair     green    Unknown   \n",
       "4   Male              Human       bad    No Hair      blue    Unknown   \n",
       "5   Male              Human      good      Blond      blue    Unknown   \n",
       "6   Male              Human      good      Brown     brown    Unknown   \n",
       "7   Male            Unknown      good    Unknown   Unknown    Unknown   \n",
       "8   Male            Unknown       bad      White      blue    Unknown   \n",
       "9   Male             Cyborg       bad      Black     brown    Unknown   \n",
       "\n",
       "            Hero          Publisher  Height in cm  Weight in kg  \n",
       "0         A-Bomb      Marvel Comics         203.0         441.0  \n",
       "1     Abe Sapien  Dark Horse Comics         191.0          65.0  \n",
       "2       Abin Sur          DC Comics         185.0          90.0  \n",
       "3    Abomination      Marvel Comics         203.0         441.0  \n",
       "4  Absorbing Man      Marvel Comics         193.0         122.0  \n",
       "5   Adam Strange          DC Comics         185.0          88.0  \n",
       "6      Agent Bob      Marvel Comics         178.0          81.0  \n",
       "7     Agent Zero      Marvel Comics         191.0         104.0  \n",
       "8     Air-Walker      Marvel Comics         188.0         108.0  \n",
       "9           Ajax      Marvel Comics         193.0          90.0  "
      ]
     },
     "execution_count": 57,
     "metadata": {},
     "output_type": "execute_result"
    }
   ],
   "source": [
    "hero_df.head(10)"
   ]
  },
  {
   "cell_type": "markdown",
   "id": "310ae7e2",
   "metadata": {},
   "source": [
    "## Data Cleaning - Powers"
   ]
  },
  {
   "cell_type": "code",
   "execution_count": 58,
   "id": "54fc1b6f",
   "metadata": {},
   "outputs": [
    {
     "name": "stdout",
     "output_type": "stream",
     "text": [
      "<class 'pandas.core.frame.DataFrame'>\n",
      "RangeIndex: 667 entries, 0 to 666\n",
      "Data columns (total 2 columns):\n",
      " #   Column      Non-Null Count  Dtype \n",
      "---  ------      --------------  ----- \n",
      " 0   hero_names  667 non-null    object\n",
      " 1   Powers      667 non-null    object\n",
      "dtypes: object(2)\n",
      "memory usage: 10.5+ KB\n"
     ]
    }
   ],
   "source": [
    "powers_df.info()"
   ]
  },
  {
   "cell_type": "code",
   "execution_count": 59,
   "id": "0d3254c9",
   "metadata": {},
   "outputs": [
    {
     "data": {
      "text/html": [
       "<div>\n",
       "<style scoped>\n",
       "    .dataframe tbody tr th:only-of-type {\n",
       "        vertical-align: middle;\n",
       "    }\n",
       "\n",
       "    .dataframe tbody tr th {\n",
       "        vertical-align: top;\n",
       "    }\n",
       "\n",
       "    .dataframe thead th {\n",
       "        text-align: right;\n",
       "    }\n",
       "</style>\n",
       "<table border=\"1\" class=\"dataframe\">\n",
       "  <thead>\n",
       "    <tr style=\"text-align: right;\">\n",
       "      <th></th>\n",
       "      <th>hero_names</th>\n",
       "      <th>Powers</th>\n",
       "    </tr>\n",
       "  </thead>\n",
       "  <tbody>\n",
       "    <tr>\n",
       "      <th>0</th>\n",
       "      <td>3-D Man</td>\n",
       "      <td>Agility,Super Strength,Stamina,Super Speed</td>\n",
       "    </tr>\n",
       "    <tr>\n",
       "      <th>1</th>\n",
       "      <td>A-Bomb</td>\n",
       "      <td>Accelerated Healing,Durability,Longevity,Super...</td>\n",
       "    </tr>\n",
       "    <tr>\n",
       "      <th>2</th>\n",
       "      <td>Abe Sapien</td>\n",
       "      <td>Agility,Accelerated Healing,Cold Resistance,Du...</td>\n",
       "    </tr>\n",
       "    <tr>\n",
       "      <th>3</th>\n",
       "      <td>Abin Sur</td>\n",
       "      <td>Lantern Power Ring</td>\n",
       "    </tr>\n",
       "    <tr>\n",
       "      <th>4</th>\n",
       "      <td>Abomination</td>\n",
       "      <td>Accelerated Healing,Intelligence,Super Strengt...</td>\n",
       "    </tr>\n",
       "  </tbody>\n",
       "</table>\n",
       "</div>"
      ],
      "text/plain": [
       "    hero_names                                             Powers\n",
       "0      3-D Man         Agility,Super Strength,Stamina,Super Speed\n",
       "1       A-Bomb  Accelerated Healing,Durability,Longevity,Super...\n",
       "2   Abe Sapien  Agility,Accelerated Healing,Cold Resistance,Du...\n",
       "3     Abin Sur                                 Lantern Power Ring\n",
       "4  Abomination  Accelerated Healing,Intelligence,Super Strengt..."
      ]
     },
     "execution_count": 59,
     "metadata": {},
     "output_type": "execute_result"
    }
   ],
   "source": [
    "powers_df.head()"
   ]
  },
  {
   "cell_type": "code",
   "execution_count": 61,
   "id": "37dbaeae",
   "metadata": {},
   "outputs": [
    {
     "data": {
      "text/plain": [
       "hero_names    0\n",
       "Powers        0\n",
       "dtype: int64"
      ]
     },
     "execution_count": 61,
     "metadata": {},
     "output_type": "execute_result"
    }
   ],
   "source": [
    "powers_df.isna().sum()"
   ]
  },
  {
   "cell_type": "code",
   "execution_count": 63,
   "id": "26353b36",
   "metadata": {},
   "outputs": [
    {
     "data": {
      "text/plain": [
       "0"
      ]
     },
     "execution_count": 63,
     "metadata": {},
     "output_type": "execute_result"
    }
   ],
   "source": [
    "powers_df.duplicated().sum()"
   ]
  },
  {
   "cell_type": "code",
   "execution_count": 65,
   "id": "915d3c10",
   "metadata": {},
   "outputs": [
    {
     "data": {
      "text/html": [
       "<div>\n",
       "<style scoped>\n",
       "    .dataframe tbody tr th:only-of-type {\n",
       "        vertical-align: middle;\n",
       "    }\n",
       "\n",
       "    .dataframe tbody tr th {\n",
       "        vertical-align: top;\n",
       "    }\n",
       "\n",
       "    .dataframe thead th {\n",
       "        text-align: right;\n",
       "    }\n",
       "</style>\n",
       "<table border=\"1\" class=\"dataframe\">\n",
       "  <thead>\n",
       "    <tr style=\"text-align: right;\">\n",
       "      <th></th>\n",
       "      <th>hero_names</th>\n",
       "      <th>Powers</th>\n",
       "    </tr>\n",
       "  </thead>\n",
       "  <tbody>\n",
       "    <tr>\n",
       "      <th>0</th>\n",
       "      <td>3-D Man</td>\n",
       "      <td>Agility,Super Strength,Stamina,Super Speed</td>\n",
       "    </tr>\n",
       "    <tr>\n",
       "      <th>1</th>\n",
       "      <td>A-Bomb</td>\n",
       "      <td>Accelerated Healing,Durability,Longevity,Super...</td>\n",
       "    </tr>\n",
       "    <tr>\n",
       "      <th>2</th>\n",
       "      <td>Abe Sapien</td>\n",
       "      <td>Agility,Accelerated Healing,Cold Resistance,Du...</td>\n",
       "    </tr>\n",
       "    <tr>\n",
       "      <th>3</th>\n",
       "      <td>Abin Sur</td>\n",
       "      <td>Lantern Power Ring</td>\n",
       "    </tr>\n",
       "    <tr>\n",
       "      <th>4</th>\n",
       "      <td>Abomination</td>\n",
       "      <td>Accelerated Healing,Intelligence,Super Strengt...</td>\n",
       "    </tr>\n",
       "  </tbody>\n",
       "</table>\n",
       "</div>"
      ],
      "text/plain": [
       "    hero_names                                             Powers\n",
       "0      3-D Man         Agility,Super Strength,Stamina,Super Speed\n",
       "1       A-Bomb  Accelerated Healing,Durability,Longevity,Super...\n",
       "2   Abe Sapien  Agility,Accelerated Healing,Cold Resistance,Du...\n",
       "3     Abin Sur                                 Lantern Power Ring\n",
       "4  Abomination  Accelerated Healing,Intelligence,Super Strengt..."
      ]
     },
     "execution_count": 65,
     "metadata": {},
     "output_type": "execute_result"
    }
   ],
   "source": [
    "powers_df[\"Powers\"].str.split(\",\", expand = True)\n",
    "powers_df.head()"
   ]
  },
  {
   "cell_type": "code",
   "execution_count": null,
   "id": "eb9ba7e3",
   "metadata": {},
   "outputs": [],
   "source": []
  },
  {
   "cell_type": "code",
   "execution_count": null,
   "id": "e7162a48",
   "metadata": {},
   "outputs": [],
   "source": []
  },
  {
   "cell_type": "code",
   "execution_count": null,
   "id": "11541578",
   "metadata": {},
   "outputs": [],
   "source": []
  },
  {
   "cell_type": "code",
   "execution_count": null,
   "id": "192c22bb",
   "metadata": {},
   "outputs": [],
   "source": []
  },
  {
   "cell_type": "code",
   "execution_count": null,
   "id": "c8e4fbca",
   "metadata": {},
   "outputs": [],
   "source": []
  },
  {
   "cell_type": "code",
   "execution_count": null,
   "id": "34d9c1c9",
   "metadata": {},
   "outputs": [],
   "source": []
  },
  {
   "cell_type": "code",
   "execution_count": null,
   "id": "0ffb935e",
   "metadata": {},
   "outputs": [],
   "source": []
  },
  {
   "cell_type": "code",
   "execution_count": null,
   "id": "436d8590",
   "metadata": {},
   "outputs": [],
   "source": []
  },
  {
   "cell_type": "code",
   "execution_count": null,
   "id": "a8dd7ff8",
   "metadata": {},
   "outputs": [],
   "source": []
  },
  {
   "cell_type": "code",
   "execution_count": 64,
   "id": "2d927dcc",
   "metadata": {},
   "outputs": [
    {
     "data": {
      "text/plain": [
       "'Accelerated Healing,Durability,Longevity,Super Strength,Stamina,Camouflage,Self-Sustenance'"
      ]
     },
     "execution_count": 64,
     "metadata": {},
     "output_type": "execute_result"
    }
   ],
   "source": [
    "powers = powers_df.loc[1, \"Powers\"]\n",
    "powers"
   ]
  },
  {
   "cell_type": "code",
   "execution_count": null,
   "id": "047a35dd",
   "metadata": {},
   "outputs": [],
   "source": [
    "import json\n",
    "json.loads(powers)"
   ]
  },
  {
   "cell_type": "code",
   "execution_count": null,
   "id": "16e09153",
   "metadata": {},
   "outputs": [],
   "source": [
    "exploded = powers_df.explode(\"Powers\")\n",
    "exploded[[\"hero_names\", \"Powers\"]].head()"
   ]
  },
  {
   "cell_type": "code",
   "execution_count": null,
   "id": "c5cd663f",
   "metadata": {},
   "outputs": [],
   "source": [
    "cols_to_make = exploded[\"Powers\"].dropna().unique()\n",
    "cols_to_make"
   ]
  },
  {
   "cell_type": "code",
   "execution_count": null,
   "id": "d8fbed62",
   "metadata": {},
   "outputs": [],
   "source": [
    "for col in cols_to_make:\n",
    "    powers_df[col] = powers_df[\"Powers\"].str.contains(col)\n",
    "powers_df.head()"
   ]
  }
 ],
 "metadata": {
  "kernelspec": {
   "display_name": "Python (dojo-env)",
   "language": "python",
   "name": "dojo-env"
  },
  "language_info": {
   "codemirror_mode": {
    "name": "ipython",
    "version": 3
   },
   "file_extension": ".py",
   "mimetype": "text/x-python",
   "name": "python",
   "nbconvert_exporter": "python",
   "pygments_lexer": "ipython3",
   "version": "3.8.13"
  }
 },
 "nbformat": 4,
 "nbformat_minor": 5
}
